{
 "cells": [
  {
   "cell_type": "markdown",
   "metadata": {
    "collapsed": true,
    "id": "Dh8MkXaG-c9Y",
    "jupyter": {
     "outputs_hidden": true
    }
   },
   "source": [
    "# Ciencia de datos (CC408) - Primavera 2024\n",
    "\n",
    "## Trabajo Práctico 1 - Parte 1 "
   ]
  },
  {
   "cell_type": "markdown",
   "metadata": {
    "id": "RhBlm6mZ-c9e"
   },
   "source": [
    "### Reglas de formato y presentación\n",
    "- El trabajo debe estar debidamente documentado comentado (utilizando #) para que tanto los docentes como sus compañeros puedan comprender el código fácilmente.\n",
    "\n",
    "- El mismo debe ser completado en este Jupyter Notebook y entregado como tal, es decir en un archivo .ipynb\n"
   ]
  },
  {
   "cell_type": "markdown",
   "metadata": {
    "id": "ZEjGaa4U-c9g"
   },
   "source": [
    "### Fecha de entrega:\n",
    "Domingo 8 de septiembre a las 23:59hs"
   ]
  },
  {
   "cell_type": "markdown",
   "metadata": {
    "id": "N9TU2y7E-c9h"
   },
   "source": [
    "### Modalidad de entrega\n",
    "- Al finalizar el trabajo práctico deben hacer un último <i>commit</i> en su repositorio de GitHub llamado “Entrega final del tp”. \n",
    "- Asegurense de haber creado una carpeta llamada TP1. Este Jupyter Notebook y el correspondiente al TP1 - Parte 1 deben estar dentro de esa carpeta.\n",
    "- También deben enviar el link de su repositorio -para que pueda ser clonado y corregido- al siguiente email: ispiousas@udesa.edu.ar\n",
    "- La última versión en el repositorio es la que será evaluada. Por lo que es importante que: \n",
    "    - No envien el correo hasta no haber terminado y estar seguros de que han hecho el <i>commit y push</i> a la versión final que quieren entregar. Debido a que se pueden tomar hasta 3 días de extensión a lo largo del curso, no se corregirán sus tareas hasta no recibir el correo.\n",
    "    - No hagan nuevos <i>push</i> despues de haber entregado su versión final. Esto generaría confusión acerca de que versión es la que quieren que se les corrija. "
   ]
  },
  {
   "cell_type": "markdown",
   "metadata": {
    "id": "ZXbrPraa-c9i"
   },
   "source": [
    "#### Ejercicio 1\n",
    "Este ejercicio simplemente busca repasar lo que aprendimos sobre definición de variables. Definir dos variables con un nombre combinado (al menos dos palabras), una que se pueda crear y otra que tenga un nombre inaceptable (genera error). Explicar por qué ocurre el error."
   ]
  },
  {
   "cell_type": "code",
   "execution_count": 12,
   "metadata": {
    "id": "mb7PkXfN-c9j"
   },
   "outputs": [
    {
     "data": {
      "text/plain": [
       "'esta es la variable correcta'"
      ]
     },
     "execution_count": 12,
     "metadata": {},
     "output_type": "execute_result"
    }
   ],
   "source": [
    "# Caso A\n",
    "variable_correcta = \"esta es la variable correcta\"\n",
    "variable_correcta\n",
    "\n",
    "# Caso B (acá debería saltar un error)\n",
    "variable incorrecta = \"esta es la variable incorrecta\" #esta es la variable incorrecta por que en python no se permiten espacios al definir una variable"
   ]
  },
  {
   "cell_type": "markdown",
   "metadata": {},
   "source": [
    "#### Ejercicio 2\n",
    "Importar módulos. Usando el módulo math impriman la tangente de 1. ¿Cuál es el resultado?\n",
    "Hagan este cálculo de dos formas: primero importando el módulo math y usando la función correspondiente y luego solo importando la función específica que precisan para el cálculo."
   ]
  },
  {
   "cell_type": "code",
   "execution_count": 32,
   "metadata": {},
   "outputs": [
    {
     "data": {
      "text/plain": [
       "1.5574077246549023"
      ]
     },
     "execution_count": 32,
     "metadata": {},
     "output_type": "execute_result"
    }
   ],
   "source": [
    "# Caso A\n",
    "import math\n",
    "resultadoa = math.tan(1)\n",
    "resultadoa\n",
    "\n",
    "# Caso B\n",
    "from math import tan\n",
    "resultadob = tan(1)\n",
    "resultadob"
   ]
  },
  {
   "cell_type": "markdown",
   "metadata": {
    "id": "GlNh0fyv-c9l"
   },
   "source": [
    "#### Ejercicio 3 \n",
    "Este ejercicio trata sobre lograr el intercambio de valores entre dos variables utilizando una variable temporal para hacerlo. Las variables temporales y la sustitución de valores termina siendo útil en algunos loops. Los pasos a seguir son: (a) definir variables A y B (cuyos valores buscaremos invertir); (b) definir una variable temporal que resguarde el valor de B; (c) sustitución (asignar B igual a A y también A igual al valor original de B); (d) imprimir valores para verificar."
   ]
  },
  {
   "cell_type": "code",
   "execution_count": 56,
   "metadata": {
    "id": "uWalSYFC-c9m"
   },
   "outputs": [
    {
     "data": {
      "text/plain": [
       "1"
      ]
     },
     "execution_count": 56,
     "metadata": {},
     "output_type": "execute_result"
    }
   ],
   "source": [
    "# a) Definir variables A y B, \n",
    "a = 1\n",
    "b = 2\n",
    "\n",
    "# b) Definir variable temporal \"tmp\" igual a B (la variable, no el valor)\n",
    "tmp = b\n",
    "tmp\n",
    "\n",
    "# c) Ahora sustituir variables: variable B igual a variable A (la variable, no el\n",
    "# valor) y viceversa.\n",
    "b = a #intercambiamos el valor de b por el de a\n",
    "a = tmp #intercambiamos el valor de a con la nueva variable temporal tmp, que guarda el valor de b\n",
    "\n",
    "# d) Verifiquemos resultados: imprimir variables A y B\n",
    "a\n",
    "b"
   ]
  },
  {
   "cell_type": "markdown",
   "metadata": {
    "id": "wXhAaRyN-c9p"
   },
   "source": [
    "#### Ejercicio 4\n",
    "En este ejercicio se busca poner en práctica el uso de range() en un for loop. \n",
    "\n",
    "Construir un for loop usando un range(). El range debe ser entre los valores que quieran (con una diferencia mínima de 15 entre start y stop), en incrementos de 3 unidades. Dentro del loop, implementar una sentencia condicional que imprima una leyenda indicando si el input es par o impar."
   ]
  },
  {
   "cell_type": "code",
   "execution_count": 74,
   "metadata": {
    "id": "_oE5sG0c-c9q"
   },
   "outputs": [
    {
     "name": "stdout",
     "output_type": "stream",
     "text": [
      "10 esto es un numero par\n",
      "16 esto es un numero par\n",
      "22 esto es un numero par\n",
      "28 esto es un numero par\n",
      "34 esto es un numero par\n",
      "37 esto es un numero impar\n"
     ]
    }
   ],
   "source": [
    "# Resolver acá\n",
    "x = range(10, 40, 3) #defini en rango entre 15 y 30, con un intervalo de 3\n",
    "\n",
    "for num in x: \n",
    "    if num % 2 == 0: #usando la funcion de resto(%), si el numero dividio dos tiene como resto 0 es par\n",
    "        print(num, \"esto es un numero par\") \n",
    "else: #si el numero divido dos no tiene como resto 0, significa que es impar\n",
    "    print(num, \"esto es un numero impar\")"
   ]
  },
  {
   "cell_type": "markdown",
   "metadata": {
    "id": "h3g5bXUB-c9u"
   },
   "source": [
    "#### Ejercicio 5\n",
    "Para practicar el uso de condiciones lógicas y la definición de funciones, construir una función con una sentencia condicional que verifique si un año es bisiesto o no. Para que un año sea bisiesto debe cumplir una de dos condiciones:\n",
    "\n",
    "(a) que sea divisible por 400; o\n",
    "\n",
    "(b) que sea divisible por 4 y no sea divisible por 100\n",
    "\n",
    "Notar que son dos condiciones, donde la segunda condición tiene dos componentes. Prueben la función con 3 valores para verificar que funcione."
   ]
  },
  {
   "cell_type": "code",
   "execution_count": 124,
   "metadata": {
    "id": "7_MnILdz-c9v"
   },
   "outputs": [
    {
     "name": "stdout",
     "output_type": "stream",
     "text": [
      "True\n",
      "False\n",
      "False\n"
     ]
    }
   ],
   "source": [
    "# Resolver acá\n",
    "\n",
    "def bisiesto (n): #definimos la funcion con un parametro n, que seria el año \n",
    "    if n % 400 == 0: #primera condicion: si cuando divido el numero por 400 y el resto da 0 es bisiesto\n",
    "        return True\n",
    "    elif n % 4 == 0 and n % 100 != 0: #segunda condicion: si cuando dividio el numero por 400 da 0, pero no puede ser divido por 100 y dar 0 es bisiesto\n",
    "        return True\n",
    "    else: #si no cumple ninguna de las condiciones\n",
    "        return False\n",
    "\n",
    "print(bisiesto(2000))\n",
    "print(bisiesto(1999))\n",
    "print(bisiesto(1450))\n"
   ]
  },
  {
   "cell_type": "markdown",
   "metadata": {
    "collapsed": true,
    "id": "P3a7bJkd-c9w",
    "jupyter": {
     "outputs_hidden": true
    }
   },
   "source": [
    "#### Ejercicio 6 \n",
    "Pongamos en práctica identificar el type() de cada variable. A continuación tenemos una lista con elementos de diferentes tipos. Construyan un for loop que itere sobre la lista e imprima un cartel indicando el tipo de dato u objeto que hay en cada caso."
   ]
  },
  {
   "cell_type": "code",
   "execution_count": 112,
   "metadata": {
    "id": "jDf4d_Wr-c9w"
   },
   "outputs": [],
   "source": [
    "mi_lista = [10, 34.5, 99999, 'abc', [1,2,3], ('ARG', 1810), {'pob': 45}, True]"
   ]
  },
  {
   "cell_type": "code",
   "execution_count": 129,
   "metadata": {
    "id": "SAJgEiNEFQAS"
   },
   "outputs": [
    {
     "name": "stdout",
     "output_type": "stream",
     "text": [
      "El elemento '10' es de tipo int\n",
      "El elemento '34.5' es de tipo float\n",
      "El elemento '99999' es de tipo int\n",
      "El elemento 'abc' es de tipo str\n",
      "El elemento '[1, 2, 3]' es de tipo list\n",
      "El elemento '('ARG', 1810)' es de tipo tuple\n",
      "El elemento '{'pob': 45}' es de tipo dict\n",
      "El elemento 'True' es de tipo bool\n"
     ]
    }
   ],
   "source": [
    "# Resolver acá\n",
    "for elem in mi_lista: #recorre los elementos de la lista\n",
    "    print(f\"El elemento '{elem}' es de tipo {type(elem).__name__}\") #retorna el nombre del tipo de dato de cada elemento de la lista"
   ]
  },
  {
   "cell_type": "markdown",
   "metadata": {
    "id": "y1lncitl-c9x"
   },
   "source": [
    "#### Ejercicio 7\n",
    "Ahora definan ustedes una nueva lista, en la que los primeros cuatro elementos sean palabras (strings), el quinto elemento no sea string, y el sexto sea string. Construyan un for loop que corra por la lista y que imprima la palabra y la longitud de la misma. Que el loop contenga una sentencia condicional que imprima un cartel \"Elemento no es un string: < el elemento > | < class del elemento >\" para los casos dónde el elemento evaluado no sea string."
   ]
  },
  {
   "cell_type": "code",
   "execution_count": 147,
   "metadata": {
    "id": "bFOk9Os0-c9x"
   },
   "outputs": [
    {
     "name": "stdout",
     "output_type": "stream",
     "text": [
      "'pelota' tiene una longitud de 6 caracteres\n",
      "'casa' tiene una longitud de 4 caracteres\n",
      "'sol' tiene una longitud de 3 caracteres\n",
      "'bicicleta' tiene una longitud de 9 caracteres\n",
      "Elemento no es un string: 2024 | int\n",
      "'feriado' tiene una longitud de 7 caracteres\n"
     ]
    }
   ],
   "source": [
    "# Resolver acá\n",
    "listanueva = ['pelota', 'casa', 'sol', 'bicicleta', 2024, 'feriado']\n",
    "\n",
    "for e in listanueva:\n",
    "    if isinstance(e, str): #verificar si el elemento es un str\n",
    "        print(f\"'{e}' tiene una longitud de {len(e)} caracteres\") #la funcion len es para ver la longitud de la palabra\n",
    "    else: #si el elemento no es un str\n",
    "        print(f\"Elemento no es un string: {e} | {type(e).__name__}\")"
   ]
  },
  {
   "cell_type": "markdown",
   "metadata": {},
   "source": [
    "#### Ejercicio 8"
   ]
  },
  {
   "cell_type": "markdown",
   "metadata": {},
   "source": [
    "Construyan una función llamada 'suma' que tome una cantidad variable de parámetros y devuelva el resultado de la suma."
   ]
  },
  {
   "cell_type": "code",
   "execution_count": 163,
   "metadata": {},
   "outputs": [
    {
     "data": {
      "text/plain": [
       "3665157"
      ]
     },
     "execution_count": 163,
     "metadata": {},
     "output_type": "execute_result"
    }
   ],
   "source": [
    "# Resolver acá\n",
    "\n",
    "def suma(a,b):\n",
    "    return a+b\n",
    "\n",
    "suma(2,100)\n",
    "suma(3,7)\n",
    "suma(2840923, 824234)"
   ]
  },
  {
   "cell_type": "markdown",
   "metadata": {
    "id": "PUpxDz72-c9x"
   },
   "source": [
    "#### Ejercicio 9\n",
    "Argentina tiene una representación legislativa proporcional en la cual la cantidad de diputados se debería ajustar según el tamaño de población de cada provincia. Otra característica de la representación legislativa del país es que hay una cantidad mínima de diputados por provincia (5). Esto genera un desbalance en la cantidad de ciudadanos por cada representante en el Congreso entre provincias.\n",
    "\n",
    "A continuación preparamos algunos ejemplos, dividiendo la población de cada provincia (según estimación para el 2022) por la cantidad de representantes en el Congreso para esa misma jurisdicción. También armamos el equivalente para el total país y una lista con los valores provinciales.\n",
    "\n",
    "En este ejercicio les pedimos que construyan un for loop que itere sobre el diccionario definido y compare cada valor provincial contra el valor de proporcionalidad directa (la variable argentina). El loop debe imprimir una leyenda que indique si la provincia está sobrerepresentada, subrepresentada o con representación proporcional. Además, queremos que el mismo loop compare los valores de las provincias sobrerepresentadas y que guarde el valor de la provincia con mayor sobrerepresentación. Luego del loop impriman este valor así podemos ver que haya funcionado.\n",
    "\n",
    "Fuente para población: https://es.wikipedia.org/wiki/Demograf%C3%ADa_de_Argentina\n",
    "\n",
    "Fuente para representantes: https://es.wikipedia.org/wiki/C%C3%A1mara_de_Diputados_de_la_Naci%C3%B3n_Argentina"
   ]
  },
  {
   "cell_type": "code",
   "execution_count": 177,
   "metadata": {
    "id": "hd8Z5AHs-c9y",
    "scrolled": true
   },
   "outputs": [],
   "source": [
    "# Valor de referencia: proporcionalidad\n",
    "argentina = 46044703 / 257\n",
    "\n",
    "# Creamos variables para una selección de jurisdicciones\n",
    "cordoba = 3978984 / 18\n",
    "santa_fe = 3556522 / 19\n",
    "mendoza = 2014533 / 10\n",
    "buenos_aires = 17569053 / 70\n",
    "entre_rios =  1426426 / 9\n",
    "santa_cruz = 333473 / 5\n",
    "formosa = 606041 / 5\n",
    "\n",
    "# Definimos el diccionario para iterar\n",
    "dict_provincias = {\n",
    "    \"Córdoba\": cordoba,\n",
    "    \"Santa Fe\": santa_fe,\n",
    "    \"Mendoza\": mendoza,\n",
    "    \"Buenos Aires\": buenos_aires,\n",
    "    \"Entre Ríos\": entre_rios,\n",
    "    \"Santa Cruz\": santa_cruz,\n",
    "    \"Formosa\": formosa\n",
    "}"
   ]
  },
  {
   "cell_type": "code",
   "execution_count": 191,
   "metadata": {
    "id": "fsEHnxiY-c9y",
    "scrolled": true
   },
   "outputs": [
    {
     "name": "stdout",
     "output_type": "stream",
     "text": [
      "Córdoba está sobrerepresentada.\n",
      "Santa Fe está sobrerepresentada.\n",
      "Mendoza está sobrerepresentada.\n",
      "Buenos Aires está sobrerepresentada.\n",
      "Entre Ríos está subrepresentada.\n",
      "Santa Cruz está subrepresentada.\n",
      "Formosa está subrepresentada.\n",
      "La provincia con mayor sobrerepresentación es Buenos Aires con un valor de 250986.47.\n"
     ]
    }
   ],
   "source": [
    "# Resolver acá\n",
    "provincias_sobrerepresentadas = []\n",
    "\n",
    "for prov, valor in dict_provincias.items(): #itera sobre cada provincia, comparando su valor con el valor de proporcionalidad directa (argentina).\n",
    "    if valor > argentina: #determinan si una provincia está sobrerepresentada\n",
    "        print(f\"{prov} está sobrerepresentada.\")\n",
    "        provincias_sobrerepresentadas.append((prov, valor)) #si una provincia está sobrerepresentada, se agrega una tupla con su nombre y su valor a la lista.\n",
    "    elif valor < argentina: #determinan si una provincia está subrepresentada \n",
    "        print(f\"{prov} está subrepresentada.\")\n",
    "    else:\n",
    "        print(f\"{prov} tiene representación proporcional.\") #determinan si una provincia tiene representación proporcional.\n",
    "\n",
    "provincias_sobrerepresentadas\n",
    "\n",
    "if provincias_sobrerepresentadas:\n",
    "    provincia_mayor_sobrerepresentacion = max(provincias_sobrerepresentadas, key=lambda x: x[1]) #buscamos el maximo en las provincias sobrerepresentadas\n",
    "    print(f\"La provincia con mayor sobrerepresentación es {provincia_mayor_sobrerepresentacion[0]} con un valor de {provincia_mayor_sobrerepresentacion[1]:.2f}.\")\n",
    "\n",
    "#hola nacho, somos caro, belen y elina: queriamos sacar el max de la lista guardada de sobrerepresentacion que hicimos en el primer condicional\n",
    "#pero nos daba como resultado que la provincia con mayor sobrepresentacion era Sta Fe, y en realidad era BsAs.\n",
    "#Asi que tuvimos que recurrir a buscar en internet como solucionarlo, y ahi aparecio el tema del key = lambda y nos dio de manera correcta.\n",
    "#queriamos ser sinceras :) gracias, las chicas."
   ]
  },
  {
   "cell_type": "markdown",
   "metadata": {
    "id": "GokZe5tV-c9z"
   },
   "source": [
    "#### Ejercicio 10\n",
    "Si buscáramos minimizar la subrepresentación de la provincia de Buenos Aires, ¿cuántos representantes debería tener según el Censo 2022? Usemos el mismo criterio de sub/sobrerepresentacion que en el ejercicio anterior: población sobre cantidad de representantes.\n",
    "\n",
    "Para responder esta pregunta construyan un while loop que incremente de a uno la cantidad de representantes de la Provincia hasta minimizar la subrepresentación. En cada iteración impriman un cartel que diga: \"Se agregó un representante, el total ahora es X\" dónde X es el número de representantes simulado."
   ]
  },
  {
   "cell_type": "code",
   "execution_count": 195,
   "metadata": {
    "id": "x9DvuXa_-c9z"
   },
   "outputs": [],
   "source": [
    "# Estos son los valores de la provincia\n",
    "representantes_pba = 70\n",
    "poblacion2010_pba = 17594428\n",
    "\n",
    "\n",
    "# Y el valor de referencia nacional\n",
    "argentina = 46044703 / 257\n"
   ]
  },
  {
   "cell_type": "code",
   "execution_count": 201,
   "metadata": {},
   "outputs": [
    {
     "name": "stdout",
     "output_type": "stream",
     "text": [
      "Se agregó un representante, el total ahora es 73.\n",
      "Se agregó un representante, el total ahora es 74.\n",
      "Se agregó un representante, el total ahora es 75.\n",
      "Se agregó un representante, el total ahora es 76.\n",
      "Se agregó un representante, el total ahora es 77.\n",
      "Se agregó un representante, el total ahora es 78.\n",
      "Se agregó un representante, el total ahora es 79.\n",
      "Se agregó un representante, el total ahora es 80.\n",
      "Se agregó un representante, el total ahora es 81.\n",
      "Se agregó un representante, el total ahora es 82.\n",
      "Se agregó un representante, el total ahora es 83.\n",
      "Se agregó un representante, el total ahora es 84.\n",
      "Se agregó un representante, el total ahora es 85.\n",
      "Se agregó un representante, el total ahora es 86.\n",
      "Se agregó un representante, el total ahora es 87.\n",
      "Se agregó un representante, el total ahora es 88.\n",
      "Se agregó un representante, el total ahora es 89.\n",
      "Se agregó un representante, el total ahora es 90.\n",
      "Se agregó un representante, el total ahora es 91.\n",
      "Se agregó un representante, el total ahora es 92.\n",
      "Se agregó un representante, el total ahora es 93.\n",
      "Se agregó un representante, el total ahora es 94.\n",
      "Se agregó un representante, el total ahora es 95.\n",
      "Se agregó un representante, el total ahora es 96.\n",
      "Se agregó un representante, el total ahora es 97.\n",
      "Se agregó un representante, el total ahora es 98.\n",
      "Se agregó un representante, el total ahora es 99.\n",
      "El número final de representantes necesario para minimizar la subrepresentación de Buenos Aires es 99.\n"
     ]
    }
   ],
   "source": [
    "# Resolver acá\n",
    "# Cálculo de la subrepresentación\n",
    "proporcionalidad_pba = poblacion2010_pba / representantes_pba #calculo del valor de proporcionalidad (población por representante).\n",
    "\n",
    "# mientras que la proporcionalidad de bsas sea mayor a la nacional, se incrementaria 1 representate. se corta cuando se ajuste la proporcionalidad de bs as a la nacional\n",
    "while proporcionalidad_pba > argentina: #el bucle incrementa el número de representantes en 1 en cada iteración.\n",
    "    representantes_pba += 1\n",
    "    proporcionalidad_pba = poblacion2010_pba / representantes_pba\n",
    "    print(f\"Se agregó un representante, el total ahora es {representantes_pba}.\")\n",
    "\n",
    "# Resultado final: el ultimo resultado del bucle\n",
    "print(f\"El número final de representantes necesario para minimizar la subrepresentación de Buenos Aires es {representantes_pba}.\")"
   ]
  }
 ],
 "metadata": {
  "anaconda-cloud": {},
  "colab": {
   "name": "TP1 - Parte 1.ipynb",
   "provenance": []
  },
  "kernelspec": {
   "display_name": "Python 3 (ipykernel)",
   "language": "python",
   "name": "python3"
  },
  "language_info": {
   "codemirror_mode": {
    "name": "ipython",
    "version": 3
   },
   "file_extension": ".py",
   "mimetype": "text/x-python",
   "name": "python",
   "nbconvert_exporter": "python",
   "pygments_lexer": "ipython3",
   "version": "3.12.4"
  }
 },
 "nbformat": 4,
 "nbformat_minor": 4
}
